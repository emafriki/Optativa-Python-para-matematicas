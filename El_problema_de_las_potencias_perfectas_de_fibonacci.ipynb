{
  "nbformat": 4,
  "nbformat_minor": 0,
  "metadata": {
    "colab": {
      "provenance": [],
      "authorship_tag": "ABX9TyOVfbW5TuH6pNSkZ1zFfhqh",
      "include_colab_link": true
    },
    "kernelspec": {
      "name": "python3",
      "display_name": "Python 3"
    },
    "language_info": {
      "name": "python"
    }
  },
  "cells": [
    {
      "cell_type": "markdown",
      "metadata": {
        "id": "view-in-github",
        "colab_type": "text"
      },
      "source": [
        "<a href=\"https://colab.research.google.com/github/emafriki/Optativa-Python-para-matematicas-2023/blob/main/El_problema_de_las_potencias_perfectas_de_fibonacci.ipynb\" target=\"_parent\"><img src=\"https://colab.research.google.com/assets/colab-badge.svg\" alt=\"Open In Colab\"/></a>"
      ]
    },
    {
      "cell_type": "markdown",
      "source": [
        "\n",
        "## **El problema de las potencias perfectas de fibonacci**"
      ],
      "metadata": {
        "id": "PaURITmeH5V7"
      }
    },
    {
      "cell_type": "markdown",
      "source": [
        "Sabemos que los números de fibonacci son aquellos que conforman la sucesión de fibonacci, la cuál empieza en 0 y 1, esta caracteristica sucesión esta formada por la peculiaridad de que cada numero de esta es la suma de los dos anteriores, la sucesion de fibonacci es:0,1,1,2,3,5,8,13,......  y continua indefinidamente.\n",
        "\n",
        "En el siguiente codigo podemos reproducir los numeros menores de 100 que son de fibonacci haciendo uso de un codigo escrito en python"
      ],
      "metadata": {
        "id": "XQMukHdBIFzZ"
      }
    },
    {
      "cell_type": "code",
      "source": [
        "a, b = 0, 1\n",
        "\n",
        "while a < 100:\n",
        "    print(a, end=\", \")\n",
        "    a, b = b, a+b"
      ],
      "metadata": {
        "colab": {
          "base_uri": "https://localhost:8080/"
        },
        "id": "TYEPQ3uyJCqu",
        "outputId": "a5dfe472-4196-453a-f17c-e3763607957f"
      },
      "execution_count": 1,
      "outputs": [
        {
          "output_type": "stream",
          "name": "stdout",
          "text": [
            "0, 1, 1, 2, 3, 5, 8, 13, 21, 34, 55, 89, "
          ]
        }
      ]
    },
    {
      "cell_type": "markdown",
      "source": [
        "Una pregunta que nos podemos hacer es ¿Qué números de Fibonacci menores que 10^20 son cuadrados?\n",
        "\n",
        "Esta pregunta la podemos responder haciendo uso de python, mediante el siguiente codigo\n",
        "\n",
        "\n"
      ],
      "metadata": {
        "id": "JPBIeesuJ-HA"
      }
    },
    {
      "cell_type": "code",
      "source": [
        "from sympy import sqrt #sympy hace calculo sybolico no numerico\n",
        "\n",
        "def es_cuadrado(n):\n",
        "    return int(sqrt(n)) ** 2 == n #se saca la parte entera y se compara si se regresa un valor solo se regresa la comparacion\n",
        "\n",
        "def cuadrados_fibonacci(n): #calcula los numeros de fibonacci\n",
        "    fibs = []\n",
        "    a, b = 0, 1\n",
        "    while a < n:\n",
        "        if es_cuadrado(a): #se evalua si es cuadrado perfecto y se agrega a una lista vacia\n",
        "            fibs.append(a)\n",
        "        a, b = b, a+b\n",
        "    return fibs\n",
        "\n",
        "cuadrados_fibonacci(100000)"
      ],
      "metadata": {
        "colab": {
          "base_uri": "https://localhost:8080/"
        },
        "id": "3ucRdoW6Ko0g",
        "outputId": "f91ca27a-7b32-410f-81e8-4070c577e880"
      },
      "execution_count": 2,
      "outputs": [
        {
          "output_type": "execute_result",
          "data": {
            "text/plain": [
              "[0, 1, 1, 144]"
            ]
          },
          "metadata": {},
          "execution_count": 2
        }
      ]
    },
    {
      "cell_type": "markdown",
      "source": [
        "Por lo anterior podemos llegar a la siguiente conjetura: los unicos numeros de fibonacci que son cuadrados perfectos son 0,1,144.\n",
        "\n",
        "De igual forma esto nos lleva a la siguiente pregunta ¿Qué números de Fibonacci menores que 10^20 son cuadrados?¿Qué números de Fibonacci menores que 10^20 son cuartas potencias? ¿Qué números de Fibonacci menores que 10^20 son n potencia para un entero?\n",
        "\n",
        "\n",
        "Podemos hacer un codigo para responder parcialmente estas preguntas"
      ],
      "metadata": {
        "id": "G1A_fmJCKuyf"
      }
    },
    {
      "cell_type": "code",
      "source": [
        "from sympy import sqrt\n",
        "\n",
        "def potencia(n,pot=2):\n",
        "        if pot==2:\n",
        "           return int(sqrt(n)) ** 2 == n\n",
        "        else:\n",
        "            return int(n**(1/pot)) ** pot == n\n",
        "def potencias_fibonacci(n,pot=2):\n",
        "    fibs = []\n",
        "    a, b = 0, 1\n",
        "    while a < n:\n",
        "        if potencia(a,pot): #se evalua si es cuadrado perfecto y se agrega a una lista vacia\n",
        "            fibs.append(a)\n",
        "        a, b = b, a+b\n",
        "    return fibs\n",
        "c=eval(input('Potencia?',))\n",
        "potencias_fibonacci(10**20,c)"
      ],
      "metadata": {
        "colab": {
          "base_uri": "https://localhost:8080/"
        },
        "id": "x9oWwyW9K6Vo",
        "outputId": "8f7cd6bf-8409-492a-dd3b-0dd16b2b4191"
      },
      "execution_count": 7,
      "outputs": [
        {
          "name": "stdout",
          "output_type": "stream",
          "text": [
            "Potencia?3\n"
          ]
        },
        {
          "output_type": "execute_result",
          "data": {
            "text/plain": [
              "[0, 1, 1, 8]"
            ]
          },
          "metadata": {},
          "execution_count": 7
        }
      ]
    },
    {
      "cell_type": "markdown",
      "source": [
        "En el programa nos pregunta la potencia, para saber que numeros de Fibonacci son dichas potencias"
      ],
      "metadata": {
        "id": "A3t8CboxMCP0"
      }
    },
    {
      "cell_type": "markdown",
      "source": [
        "Sin embargo, estas preguntas ya estan resueltas, en el siguiente articulo se puede consultar mas sobre la solucion del problema:\n",
        " https://annals.math.princeton.edu/2006/163-3/p05"
      ],
      "metadata": {
        "id": "vUOcTdcVMQ5T"
      }
    }
  ]
}
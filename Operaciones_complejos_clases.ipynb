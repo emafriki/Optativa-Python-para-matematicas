{
  "nbformat": 4,
  "nbformat_minor": 0,
  "metadata": {
    "colab": {
      "provenance": [],
      "authorship_tag": "ABX9TyMrUYp1K7FpN9Wq54G3inXC",
      "include_colab_link": true
    },
    "kernelspec": {
      "name": "python3",
      "display_name": "Python 3"
    },
    "language_info": {
      "name": "python"
    }
  },
  "cells": [
    {
      "cell_type": "markdown",
      "metadata": {
        "id": "view-in-github",
        "colab_type": "text"
      },
      "source": [
        "<a href=\"https://colab.research.google.com/github/emafriki/Optativa-Python-para-matematicas-2023/blob/main/Operaciones_complejos_clases.ipynb\" target=\"_parent\"><img src=\"https://colab.research.google.com/assets/colab-badge.svg\" alt=\"Open In Colab\"/></a>"
      ]
    },
    {
      "cell_type": "markdown",
      "source": [
        "# **Clase de Numeros Complejos y sus operaciones**"
      ],
      "metadata": {
        "id": "NO2WZRgUZgMo"
      }
    },
    {
      "cell_type": "markdown",
      "source": [
        "Se define la Clase de numeros complejos y su modulo"
      ],
      "metadata": {
        "id": "0IdEeR0MZ_Tg"
      }
    },
    {
      "cell_type": "code",
      "execution_count": 1,
      "metadata": {
        "id": "-WfxXuTZNWRn"
      },
      "outputs": [],
      "source": [
        "from math import sqrt\n",
        "\n",
        "class NúmeroComplejo:\n",
        "    def __init__(self, parte_real, parte_imaginaria):\n",
        "        self.r = parte_real\n",
        "        self.i = parte_imaginaria\n",
        "    def __repr__(self):\n",
        "        return f\"NúmeroComplejo({self.r}, {self.i})\"\n",
        "\n",
        "    def módulo(self):\n",
        "        return sqrt(self.r**2 + self.i**2)"
      ]
    },
    {
      "cell_type": "markdown",
      "source": [
        "Podríamos definir una función que sume dos números complejos:"
      ],
      "metadata": {
        "id": "-Iv0l2aJaJ68"
      }
    },
    {
      "cell_type": "code",
      "source": [
        "def suma_complejos(z1, z2):\n",
        "    return NúmeroComplejo(z1.r + z2.r, z1.i + z2.i)\n",
        "\n",
        "z = NúmeroComplejo(3, -4)\n",
        "w = NúmeroComplejo(3, 4)\n",
        "\n",
        "suma_complejos(z, w)"
      ],
      "metadata": {
        "colab": {
          "base_uri": "https://localhost:8080/"
        },
        "id": "6hXGrZZ-OS6B",
        "outputId": "a199bf2f-5dc7-4ac6-c9bd-43a600388b06"
      },
      "execution_count": 2,
      "outputs": [
        {
          "output_type": "execute_result",
          "data": {
            "text/plain": [
              "NúmeroComplejo(6, 0)"
            ]
          },
          "metadata": {},
          "execution_count": 2
        }
      ]
    },
    {
      "cell_type": "markdown",
      "source": [
        "Para definir la suma directamente, se define el método `__add__`, cuyos argumentos son `self` y `other`:"
      ],
      "metadata": {
        "id": "EmWWflTSaNbR"
      }
    },
    {
      "cell_type": "code",
      "source": [
        "from sympy import sqrt\n",
        "\n",
        "class Complejo:\n",
        "    def __init__(self, parte_real, parte_imaginaria):\n",
        "        self.r = parte_real\n",
        "        self.i = parte_imaginaria\n",
        "\n",
        "    def __repr__(self):\n",
        "        return f\"Complejo({self.r}, {self.i})\"\n",
        "\n",
        "    def __add__(self, other):\n",
        "        return Complejo(self.r + other.r, self.i + other.i)\n",
        "\n",
        "    def módulo(self):\n",
        "        return sqrt(self.r**2+self.i**2)\n"
      ],
      "metadata": {
        "id": "fFbB7p8qQoFj"
      },
      "execution_count": 3,
      "outputs": []
    },
    {
      "cell_type": "markdown",
      "source": [
        "De forma similar podemos definir una función que reste dos números complejos:"
      ],
      "metadata": {
        "id": "BaBRzpi2afki"
      }
    },
    {
      "cell_type": "code",
      "source": [
        "def resta_complejos(z1, z2):\n",
        "    return NúmeroComplejo(z1.r - z2.r, z1.i - z2.i)\n",
        "\n",
        "z = NúmeroComplejo(3, -4)\n",
        "w = NúmeroComplejo(3, 4)\n",
        "\n",
        "resta_complejos(z, w)"
      ],
      "metadata": {
        "colab": {
          "base_uri": "https://localhost:8080/"
        },
        "id": "Q3_Kb5XkOaiC",
        "outputId": "de460d5f-d903-4b62-c846-e48a1862ee85"
      },
      "execution_count": 4,
      "outputs": [
        {
          "output_type": "execute_result",
          "data": {
            "text/plain": [
              "NúmeroComplejo(0, -8)"
            ]
          },
          "metadata": {},
          "execution_count": 4
        }
      ]
    },
    {
      "cell_type": "markdown",
      "source": [
        "Para definir la resta  directamente, se define el método  (`__sub__`), cuyos argumentos son self y other, como en la suma:"
      ],
      "metadata": {
        "id": "i_oC7XnPamiA"
      }
    },
    {
      "cell_type": "code",
      "source": [
        "from sympy import sqrt\n",
        "\n",
        "class Complejo:\n",
        "    def __init__(self, parte_real, parte_imaginaria):\n",
        "        self.r = parte_real\n",
        "        self.i = parte_imaginaria\n",
        "\n",
        "    def __repr__(self):\n",
        "        return f\"Complejo({self.r}, {self.i})\"\n",
        "\n",
        "    def __add__(self, other):\n",
        "        return Complejo(self.r + other.r, self.i + other.i)\n",
        "\n",
        "    def __sub__(self, other):\n",
        "        return Complejo(self.r - other.r, self.i - other.i)\n",
        "\n",
        "    def módulo(self):\n",
        "        return sqrt(self.r**2+self.i**2)\n"
      ],
      "metadata": {
        "id": "QbDpvkgMQtL1"
      },
      "execution_count": 14,
      "outputs": []
    },
    {
      "cell_type": "markdown",
      "source": [
        "De igual manera podemos definir una función que multiplique dos números complejos, esta es un poco mas elaborada ya que al multiplicar números complejos se usa la ley distributiva y  $i$ se eleva al cuadrado:"
      ],
      "metadata": {
        "id": "SoCvucdga4ys"
      }
    },
    {
      "cell_type": "code",
      "source": [
        "def multiplicacion_complejos(z1, z2):\n",
        "    return NúmeroComplejo(z1.r * z2.r - z1.i * z2.i,z1.r*z2.i+z2.r*z1.i)\n",
        "\n",
        "z = NúmeroComplejo(3, -4)\n",
        "w = NúmeroComplejo(3, 4)\n",
        "\n",
        "multiplicacion_complejos(z, w)"
      ],
      "metadata": {
        "colab": {
          "base_uri": "https://localhost:8080/"
        },
        "id": "eHAHxEp8Ply7",
        "outputId": "fa057eec-8fba-4a12-eb5f-50fed4b227b1"
      },
      "execution_count": 9,
      "outputs": [
        {
          "output_type": "execute_result",
          "data": {
            "text/plain": [
              "NúmeroComplejo(25, 0)"
            ]
          },
          "metadata": {},
          "execution_count": 9
        }
      ]
    },
    {
      "cell_type": "markdown",
      "source": [
        "Para definir la multiplicacion directamente, se define el método  (`__mul__`), cuyos argumentos son self y other, como en la suma y resta:"
      ],
      "metadata": {
        "id": "2JmD796wlcrs"
      }
    },
    {
      "cell_type": "code",
      "source": [
        "from sympy import sqrt\n",
        "\n",
        "class Complejo:\n",
        "    def __init__(self, parte_real, parte_imaginaria):\n",
        "        self.r = parte_real\n",
        "        self.i = parte_imaginaria\n",
        "\n",
        "    def __repr__(self):\n",
        "        return f\"Complejo({self.r}, {self.i})\"\n",
        "\n",
        "    def __add__(self, other):\n",
        "        return Complejo(self.r + other.r, self.i + other.i)\n",
        "\n",
        "    def __sub__(self, other):\n",
        "        return Complejo(self.r - other.r, self.i - other.i)\n",
        "\n",
        "    def __mul__(self, other):\n",
        "        return Complejo(z1.r * other.r - z1.i * other.i,z1.r*other.i+other.r*z1.i)\n",
        "\n",
        "    def módulo(self):\n",
        "        return sqrt(self.r**2+self.i**2)\n"
      ],
      "metadata": {
        "id": "gA4TzFbXQt4_"
      },
      "execution_count": 10,
      "outputs": []
    }
  ]
}
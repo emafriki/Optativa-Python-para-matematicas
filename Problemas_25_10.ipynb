{
  "nbformat": 4,
  "nbformat_minor": 0,
  "metadata": {
    "colab": {
      "provenance": [],
      "authorship_tag": "ABX9TyOP0y2NP1aUlVZeQeGqKMCF",
      "include_colab_link": true
    },
    "kernelspec": {
      "name": "python3",
      "display_name": "Python 3"
    },
    "language_info": {
      "name": "python"
    }
  },
  "cells": [
    {
      "cell_type": "markdown",
      "metadata": {
        "id": "view-in-github",
        "colab_type": "text"
      },
      "source": [
        "<a href=\"https://colab.research.google.com/github/emafriki/Optativa-Python-para-matematicas-2023/blob/main/Problemas_25_10.ipynb\" target=\"_parent\"><img src=\"https://colab.research.google.com/assets/colab-badge.svg\" alt=\"Open In Colab\"/></a>"
      ]
    },
    {
      "cell_type": "markdown",
      "source": [
        "# Ecuacion de la recta tangente\n",
        "\n",
        "Dada una expresión algebraica y un punto, define una función que regrese la ecuación de la recta tangente en el punto. (La ecuación se puede representar con Eq).\n"
      ],
      "metadata": {
        "id": "OJDCWRtudbq_"
      }
    },
    {
      "cell_type": "markdown",
      "source": [
        "Solución:"
      ],
      "metadata": {
        "id": "L8_5sxKad07i"
      }
    },
    {
      "cell_type": "code",
      "source": [
        "from sympy import symbols,diff,Eq\n",
        "\n",
        "x, y = symbols('x y')\n",
        "\n",
        "def tangente(eq, x0):\n",
        "    m=diff(eq, x)\n",
        "    x1=m.subs({x:x0})\n",
        "    t=Eq(y-x0, x1*(x-x0))\n",
        "    return print(t)\n",
        "\n",
        "tangente(x**4,1)"
      ],
      "metadata": {
        "colab": {
          "base_uri": "https://localhost:8080/"
        },
        "id": "3AfOd0tCeoNl",
        "outputId": "fe6ce8da-e3e7-4e99-ad3a-0bfbda8e9f1f"
      },
      "execution_count": null,
      "outputs": [
        {
          "output_type": "stream",
          "name": "stdout",
          "text": [
            "Eq(y - 1, 4*x - 4)\n"
          ]
        }
      ]
    },
    {
      "cell_type": "code",
      "source": [
        "from sympy import init_printing, symbols\n",
        "init_printing(use_latex=False, use_unicode=False)"
      ],
      "metadata": {
        "id": "F2LHKY9CrqFM"
      },
      "execution_count": null,
      "outputs": []
    },
    {
      "cell_type": "markdown",
      "source": [
        "#Matrices enteras con valores propios enteros\n",
        "\n",
        " Define una función que dada una lista, determine si todos sus valores son números enteros. (*Sugerencia*: Los números flotantes tienen un método `is_integer` que regresa `True` o `False`. Un número (incluyendo enteros de sympy) se puede convertir a flotante con la función `float`. La función `all`, que está incluida con Python, es tal que dada una lista, regresa `True` si todos sus elementos son `True`.)\n",
        "Usa la función anterior para determinar todas las matrices de la forma $\\begin{pmatrix}1 & n\\\\ 1&1\\end{pmatrix}$ con $n\\in\\{0,1,2,\\ldots, 99\\}$ tales que todos sus valores propios son enteros."
      ],
      "metadata": {
        "id": "OCvoLMhVjpMA"
      }
    },
    {
      "cell_type": "markdown",
      "source": [
        "Solucion:"
      ],
      "metadata": {
        "id": "5bPb18vZkEr5"
      }
    },
    {
      "cell_type": "code",
      "source": [
        "from sympy import Matrix\n",
        "\n",
        "def entero(a):\n",
        "    b=[]\n",
        "    for i in range(len(a)):\n",
        "        b.append(0)\n",
        "    for i in range(len(a)):\n",
        "        x=a[i]\n",
        "        b[i]=float(a[i]).is_integer()\n",
        "    if all(b):\n",
        "        print('Todos son enteros')\n",
        "    else:\n",
        "        print('No todos son enteros')\n",
        "for i in range(100):\n",
        "    A=Matrix([[1, i], [1, 1]])\n",
        "    a=A.eigenvals()"
      ],
      "metadata": {
        "id": "QxXiRSRFkGIf"
      },
      "execution_count": null,
      "outputs": []
    },
    {
      "cell_type": "markdown",
      "source": [
        "Dado el tiempo limitado, nos falta determinar todas las matrices de la forma $\\begin{pmatrix}1 & n\\\\ 1&1\\end{pmatrix}$ con $n\\in\\{0,1,2,\\ldots, 99\\}$ tales que todos sus valores propios son enteros.\n",
        "\n",
        "Se resolvera más adelante"
      ],
      "metadata": {
        "id": "2Bz_eJy9rFpg"
      }
    },
    {
      "cell_type": "markdown",
      "source": [
        "#Solucion de un siste,a de EDOs\n",
        "\n",
        "Definir una función (o una serie de funciones), tal que, dada una lista de dos listas de dos números (que represente una matriz $A$, por ejemplo `A=[[1, 2], [3, 4]]`), y una lista de dos números (que representa las condiciones iniciales $(x_{0},y_{0})$ en $t=0$, por ejemplo, `v=[2,-1]`, regrese la solución del sistema de ecuaciones diferenciales (como una pareja de  funciones de $t$):\n",
        "\n",
        "\\begin{equation}\n",
        "\\label{eq:1}\n",
        "\\begin{pmatrix}\n",
        "x'(t)\\\\\n",
        "y'(t)\n",
        "\\end{pmatrix}=\n",
        "A\\begin{pmatrix}\n",
        "x(t)\\\\\n",
        "y(t)\n",
        "\\end{pmatrix}=\n",
        "\\begin{pmatrix}\n",
        "A_{11}x(t) + A_{12}y(t)\\\\\n",
        "A_{21}x(t) + A_{22}y(t)\n",
        "\\end{pmatrix}\n",
        "\\end{equation}\n",
        "\n",
        "que satisfaga las condiciones iniciales $x(0)=x_{0}$, $y(0)=y_{0}$.\n",
        "\n"
      ],
      "metadata": {
        "id": "OLa5J-J3rGCx"
      }
    },
    {
      "cell_type": "markdown",
      "source": [
        "La solucion de dicho problema queda pendiente."
      ],
      "metadata": {
        "id": "RV2N4idXriMj"
      }
    },
    {
      "cell_type": "code",
      "source": [],
      "metadata": {
        "id": "mkiPPfH0ripr"
      },
      "execution_count": null,
      "outputs": []
    }
  ]
}
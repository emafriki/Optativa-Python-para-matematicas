{
  "cells": [
    {
      "cell_type": "markdown",
      "metadata": {
        "id": "view-in-github",
        "colab_type": "text"
      },
      "source": [
        "<a href=\"https://colab.research.google.com/github/emafriki/Optativa-Python-para-matematicas-2023/blob/main/Ternas_pitagoricas.ipynb\" target=\"_parent\"><img src=\"https://colab.research.google.com/assets/colab-badge.svg\" alt=\"Open In Colab\"/></a>"
      ]
    },
    {
      "cell_type": "markdown",
      "metadata": {
        "id": "uxfBnyNlPFnn"
      },
      "source": [
        "## **Ternas pitagoricas <1000**"
      ]
    },
    {
      "cell_type": "markdown",
      "metadata": {
        "id": "xs9hwRtSPNiM"
      },
      "source": [
        "Para empezar, sabemos que una terna pitagorica es aquel conjunto de numeros naturales $(a,b,c)$ que cumple la relación\n",
        "\n",
        "$a^2+b^2=c^2$\n",
        "\n",
        "Como por ejemplo $ (3, 4, 5), (5, 12, 13), (6, 8, 10), (7, 24, 25), … $\n",
        "\n",
        "\n",
        "Podemos comprobar facilmente esto:"
      ]
    },
    {
      "cell_type": "code",
      "execution_count": null,
      "metadata": {
        "colab": {
          "base_uri": "https://localhost:8080/"
        },
        "id": "semOUPglSXeO",
        "outputId": "0e85edc6-ab1f-41e5-8b48-71c055ec0cd8"
      },
      "outputs": [
        {
          "name": "stdout",
          "output_type": "stream",
          "text": [
            "13²= 169\n"
          ]
        },
        {
          "data": {
            "text/plain": [
              "169"
            ]
          },
          "execution_count": 11,
          "metadata": {},
          "output_type": "execute_result"
        }
      ],
      "source": [
        "#si definimos c como la suma de los cuadrados de a y b\n",
        "c=5**2+12**2\n",
        "print('13²=',c)\n",
        "13**2 #podemos comprobarlo"
      ]
    },
    {
      "cell_type": "code",
      "source": [],
      "metadata": {
        "id": "oE2STgMGxwfj"
      },
      "execution_count": null,
      "outputs": []
    },
    {
      "cell_type": "markdown",
      "metadata": {
        "id": "H2oYYbv4SyzC"
      },
      "source": [
        "Si cambiamos los numeros del codigo anterior por los de ejemplo de las ternas es rapido y facil de comprobar\n"
      ]
    },
    {
      "cell_type": "markdown",
      "metadata": {
        "id": "InXX9SxGTCBj"
      },
      "source": [
        "Ahora bien, queremos clasificar todas las terna pitagóricas $(a,b,c)$ tales que $a,b,c<1000$\n",
        "\n",
        "\n"
      ]
    },
    {
      "cell_type": "markdown",
      "metadata": {
        "id": "t1BJRpBhTWOp"
      },
      "source": [
        "Para esto generaremos un codigo en el lenguaje de programacion python para que sea mas rápido y eficaz, el codigo seria el siguiente:\n"
      ]
    },
    {
      "cell_type": "code",
      "execution_count": null,
      "metadata": {
        "colab": {
          "background_save": true,
          "base_uri": "https://localhost:8080/"
        },
        "id": "bAGnm4SmThS4",
        "outputId": "f3d433df-235c-4cf5-c630-efd4c3c67b4a"
      },
      "outputs": [
        {
          "name": "stdout",
          "output_type": "stream",
          "text": [
            "[(3, 4, 5)]\n",
            "[(6, 8, 10)]\n",
            "[(5, 12, 13)]\n",
            "[(9, 12, 15)]\n",
            "[(8, 15, 17)]\n",
            "[(12, 16, 20)]\n",
            "[(7, 24, 25)]\n",
            "[(10, 24, 26), (15, 20, 25)]\n",
            "[(20, 21, 29)]\n",
            "[(18, 24, 30)]\n",
            "[(16, 30, 34)]\n",
            "[(12, 35, 37), (21, 28, 35)]\n",
            "[(9, 40, 41), (15, 36, 39)]\n",
            "[(24, 32, 40)]\n",
            "[(27, 36, 45)]\n",
            "[(14, 48, 50)]\n",
            "[(20, 48, 52), (24, 45, 51), (30, 40, 50)]\n",
            "[(28, 45, 53)]\n",
            "[(11, 60, 61), (33, 44, 55)]\n",
            "[(40, 42, 58)]\n",
            "[(16, 63, 65), (36, 48, 60)]\n",
            "[(25, 60, 65)]\n",
            "[(33, 56, 65)]\n",
            "[(39, 52, 65)]\n",
            "[(32, 60, 68)]\n",
            "[(21, 72, 75), (24, 70, 74), (42, 56, 70)]\n",
            "[(48, 55, 73)]\n",
            "[(18, 80, 82), (30, 72, 78), (45, 60, 75)]\n",
            "[(13, 84, 85)]\n",
            "[(48, 64, 80)]\n",
            "[(36, 77, 85)]\n",
            "[(40, 75, 85)]\n",
            "[(51, 68, 85)]\n",
            "[(39, 80, 89)]\n",
            "[(35, 84, 91), (60, 63, 87)]\n",
            "[(54, 72, 90)]\n",
            "[(20, 99, 101)]\n",
            "[(28, 96, 100)]\n",
            "[(57, 76, 95)]\n",
            "[(65, 72, 97)]\n",
            "[(15, 112, 113), (40, 96, 104), (48, 90, 102), (60, 80, 100)]\n",
            "[(36, 105, 111), (56, 90, 106), (63, 84, 105)]\n",
            "[(60, 91, 109)]\n",
            "[(22, 120, 122), (66, 88, 110)]\n",
            "[(27, 120, 123), (45, 108, 117)]\n",
            "[(69, 92, 115)]\n",
            "[(35, 120, 125), (56, 105, 119), (80, 84, 116)]\n",
            "[(44, 117, 125)]\n",
            "[(32, 126, 130), (72, 96, 120)]\n",
            "[(50, 120, 130), (75, 100, 125)]\n",
            "[(17, 144, 145)]\n",
            "[(66, 112, 130)]\n",
            "[(24, 143, 145), (78, 104, 130)]\n",
            "[(64, 120, 136)]\n",
            "[(81, 108, 135)]\n",
            "[(55, 132, 143), (88, 105, 137)]\n",
            "[(42, 144, 150), (48, 140, 148), (84, 112, 140)]\n",
            "[(51, 140, 149)]\n",
            "[(87, 116, 145)]\n",
            "[(100, 105, 145)]\n",
            "[(96, 110, 146)]\n",
            "[(36, 160, 164), (60, 144, 156), (72, 135, 153), (90, 120, 150)]\n",
            "[(26, 168, 170)]\n",
            "[(93, 124, 155)]\n",
            "[(85, 132, 157)]\n",
            "[(84, 135, 159)]\n",
            "[(19, 180, 181)]\n",
            "[(96, 128, 160)]\n",
            "[(52, 165, 173), (65, 156, 169)]\n",
            "[(49, 168, 175)]\n",
            "[(33, 180, 183), (72, 154, 170), (99, 132, 165)]\n",
            "[(80, 150, 170)]\n",
            "[(102, 136, 170), (119, 120, 169)]\n",
            "[(78, 160, 178)]\n",
            "[(57, 176, 185)]\n",
            "[(28, 195, 197), (60, 175, 185), (70, 168, 182), (105, 140, 175), (120, 126, 174)]\n",
            "[(48, 189, 195), (108, 144, 180)]\n",
            "[(40, 198, 202), (88, 165, 187)]\n",
            "[(104, 153, 185)]\n",
            "[(111, 148, 185)]\n",
            "[(56, 192, 200)]\n",
            "[(45, 200, 205), (75, 180, 195)]\n",
            "[(95, 168, 193), (114, 152, 190)]\n",
            "[(21, 220, 221), (99, 168, 195)]\n",
            "[(117, 156, 195), (130, 144, 194)]\n",
            "[(84, 187, 205)]\n",
            "[(30, 224, 226), (80, 192, 208), (96, 180, 204), (120, 160, 200)]\n",
            "[(140, 147, 203)]\n",
            "[(123, 164, 205)]\n",
            "[(133, 156, 205)]\n",
            "[(63, 216, 225), (72, 210, 222), (112, 180, 212), (126, 168, 210)]\n",
            "[(60, 221, 229), (85, 204, 221)]\n",
            "[(129, 172, 215)]\n",
            "[(104, 195, 221), (120, 182, 218)]\n",
            "[(44, 240, 244), (132, 176, 220), (144, 165, 219)]\n",
            "[(140, 171, 221)]\n",
            "[(54, 240, 246), (90, 216, 234), (135, 180, 225)]\n",
            "[(32, 255, 257)]\n",
            "[(39, 252, 255), (105, 208, 233)]\n",
            "[(23, 264, 265), (138, 184, 230)]\n",
            "[(70, 240, 250), (112, 210, 238), (160, 168, 232)]\n",
            "[(141, 188, 235)]\n",
            "[(95, 228, 247), (120, 209, 241)]\n",
            "[(88, 234, 250)]\n",
            "[(64, 252, 260), (144, 192, 240)]\n",
            "[(84, 245, 259), (147, 196, 245)]\n",
            "[(108, 231, 255)]\n",
            "[(69, 260, 269)]\n",
            "[(100, 240, 260), (120, 225, 255), (150, 200, 250)]\n",
            "[(96, 247, 265)]\n"
          ]
        }
      ],
      "source": [
        "from math import *\n",
        "\n",
        "\n",
        "def ternasPitagoricas(x: int) -> list[tuple[int, int, int]]:\n",
        "    return [(a, b, c)\n",
        "            for a in range(0, x+1)\n",
        "            for b in range(a+1, x+1)\n",
        "            for c in range(b+1, x+1)\n",
        "            if a**2 + b**2 == c**2 and a + b + c == x]\n",
        "for i in range(1000):\n",
        "    d=ternasPitagoricas(i)\n",
        "    if d!=[]:\n",
        "       print(d)"
      ]
    },
    {
      "cell_type": "markdown",
      "metadata": {
        "id": "WyNLMKPUm7pN"
      },
      "source": [
        "En este programa definimos una funcion para las ternas dado un n, en la siguiente parte vamos evaluando las ternas del 1 al 1000, es un poco tardado y no da en orden las ternas pero fue la mejor opcion que encontre\n",
        "\n",
        "\n"
      ]
    },
    {
      "cell_type": "markdown",
      "metadata": {
        "id": "Vx_PCZFUn1XM"
      },
      "source": [
        "PD: El envio tardio se debe a que me faltaba arreglar una parte del programa\n",
        "\n",
        "PD2:Su optimizacion se queda pendiente debido a falta de tiempo y por indisposicion momentanea del autor"
      ]
    }
  ],
  "metadata": {
    "colab": {
      "provenance": [],
      "authorship_tag": "ABX9TyPfHOAxiWdhsqq0VQsxraDu",
      "include_colab_link": true
    },
    "kernelspec": {
      "display_name": "Python 3",
      "name": "python3"
    },
    "language_info": {
      "name": "python"
    }
  },
  "nbformat": 4,
  "nbformat_minor": 0
}